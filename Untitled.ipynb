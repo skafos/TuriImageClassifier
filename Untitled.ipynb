{
 "cells": [
  {
   "cell_type": "code",
   "execution_count": 8,
   "metadata": {},
   "outputs": [],
   "source": [
    "%%capture\n",
    "import turicreate as tc\n",
    "from s3fs.core import S3FileSystem\n",
    "s3 = S3FileSystem(anon=True)\n",
    "from "
   ]
  },
  {
   "cell_type": "code",
   "execution_count": 24,
   "metadata": {},
   "outputs": [],
   "source": [
    "from IPython.display import clear_output"
   ]
  },
  {
   "cell_type": "code",
   "execution_count": 11,
   "metadata": {},
   "outputs": [],
   "source": [
    "cat_images = s3.ls(\"s3://skafos.example.data/PetImages/Cat/\")\n",
    "dog_images = s3.ls(\"s3://skafos.example.data/PetImages/Dog/\")"
   ]
  },
  {
   "cell_type": "code",
   "execution_count": 17,
   "metadata": {},
   "outputs": [
    {
     "ename": "SyntaxError",
     "evalue": "invalid syntax (<ipython-input-17-2ed3f18bc56f>, line 3)",
     "output_type": "error",
     "traceback": [
      "\u001b[0;36m  File \u001b[0;32m\"<ipython-input-17-2ed3f18bc56f>\"\u001b[0;36m, line \u001b[0;32m3\u001b[0m\n\u001b[0;31m    for\u001b[0m\n\u001b[0m        ^\u001b[0m\n\u001b[0;31mSyntaxError\u001b[0m\u001b[0;31m:\u001b[0m invalid syntax\n"
     ]
    }
   ],
   "source": [
    "# Load images (Note: you can ignore 'Not a JPEG file' errors)\n",
    "data = tc.SFrame()\n",
    "i = 0\n",
    "for c in cat_images:\n",
    "    print()\n",
    "    data.append(tc.image_analysis.load_images(url = \"https://s3.amazonaws.com/\" + c))\n",
    "\n",
    "\n",
    "# From the path-name, create a label column\n",
    "data['label'] = data['path'].apply(lambda path: 'dog' if '/Dog' in path else 'cat')\n",
    "\n",
    "# Save the data for future use\n",
    "#data.save('cats-dogs.sframe')"
   ]
  },
  {
   "cell_type": "code",
   "execution_count": 20,
   "metadata": {},
   "outputs": [
    {
     "data": {
      "text/html": [
       "<pre>Downloading https://s3.amazonaws.com/skafos.example.data/PetImages/ to /var/tmp/turicreate-griffin/834/bd6e0d9e-7c57-43c6-8cec-cb5f66913b58</pre>"
      ],
      "text/plain": [
       "Downloading https://s3.amazonaws.com/skafos.example.data/PetImages/ to /var/tmp/turicreate-griffin/834/bd6e0d9e-7c57-43c6-8cec-cb5f66913b58"
      ]
     },
     "metadata": {},
     "output_type": "display_data"
    },
    {
     "data": {
      "text/html": [
       "<pre>Failed to download https://s3.amazonaws.com/skafos.example.data/PetImages/: HTTP response code said error</pre>"
      ],
      "text/plain": [
       "Failed to download https://s3.amazonaws.com/skafos.example.data/PetImages/: HTTP response code said error"
      ]
     },
     "metadata": {},
     "output_type": "display_data"
    },
    {
     "data": {
      "text/html": [
       "<pre>Unknown error reading image \t file: https://s3.amazonaws.com/skafos.example.data/PetImages/</pre>"
      ],
      "text/plain": [
       "Unknown error reading image \t file: https://s3.amazonaws.com/skafos.example.data/PetImages/"
      ]
     },
     "metadata": {},
     "output_type": "display_data"
    }
   ],
   "source": [
    "for c in cat_images:\n",
    "    "
   ]
  },
  {
   "cell_type": "code",
   "execution_count": 5,
   "metadata": {},
   "outputs": [],
   "source": [
    "from s3fs.core import S3FileSystem\n",
    "s3 = S3FileSystem(anon=True)"
   ]
  },
  {
   "cell_type": "code",
   "execution_count": 14,
   "metadata": {},
   "outputs": [],
   "source": [
    "data = data.append(data)"
   ]
  },
  {
   "cell_type": "code",
   "execution_count": 22,
   "metadata": {},
   "outputs": [],
   "source": [
    "data = tc.SFrame().append(data)"
   ]
  },
  {
   "cell_type": "code",
   "execution_count": 23,
   "metadata": {},
   "outputs": [
    {
     "data": {
      "text/html": [
       "<div style=\"max-height:1000px;max-width:1500px;overflow:auto;\"><table frame=\"box\" rules=\"cols\">\n",
       "    <tr>\n",
       "        <th style=\"padding-left: 1em; padding-right: 1em; text-align: center\">path</th>\n",
       "        <th style=\"padding-left: 1em; padding-right: 1em; text-align: center\">image</th>\n",
       "    </tr>\n",
       "</table>\n",
       "[0 rows x 2 columns]<br/>\n",
       "</div>"
      ],
      "text/plain": [
       "Columns:\n",
       "\tpath\tstr\n",
       "\timage\tImage\n",
       "\n",
       "Rows: 0\n",
       "\n",
       "Data:\n",
       "\t[]"
      ]
     },
     "execution_count": 23,
     "metadata": {},
     "output_type": "execute_result"
    }
   ],
   "source": [
    "data"
   ]
  },
  {
   "cell_type": "code",
   "execution_count": 1,
   "metadata": {},
   "outputs": [],
   "source": [
    "import turicreate as tc"
   ]
  },
  {
   "cell_type": "code",
   "execution_count": 2,
   "metadata": {},
   "outputs": [],
   "source": [
    "tc.config.set_num_gpus(-1)"
   ]
  },
  {
   "cell_type": "code",
   "execution_count": 3,
   "metadata": {},
   "outputs": [
    {
     "name": "stdout",
     "output_type": "stream",
     "text": [
      "Performing feature extraction on resized images...\n",
      "Completed    64/19890\n",
      "Completed   128/19890\n",
      "Completed   192/19890\n",
      "Completed   256/19890\n",
      "Completed   320/19890\n",
      "Completed   384/19890\n",
      "Completed   448/19890\n",
      "Completed   512/19890\n",
      "Completed   576/19890\n",
      "Completed   640/19890\n",
      "Completed   704/19890\n",
      "Completed   768/19890\n",
      "Completed   832/19890\n",
      "Completed   896/19890\n",
      "Completed   960/19890\n",
      "Completed  1024/19890\n",
      "Completed  1088/19890\n",
      "Completed  1152/19890\n",
      "Completed  1216/19890\n",
      "Completed  1280/19890\n",
      "Completed  1344/19890\n",
      "Completed  1408/19890\n",
      "Completed  1472/19890\n",
      "Completed  1536/19890\n",
      "Completed  1600/19890\n",
      "Completed  1664/19890\n",
      "Completed  1728/19890\n",
      "Completed  1792/19890\n",
      "Completed  1856/19890\n",
      "Completed  1920/19890\n",
      "Completed  1984/19890\n",
      "Completed  2048/19890\n",
      "Completed  2112/19890\n",
      "Completed  2176/19890\n",
      "Completed  2240/19890\n",
      "Completed  2304/19890\n",
      "Completed  2368/19890\n",
      "Completed  2432/19890\n",
      "Completed  2496/19890\n",
      "Completed  2560/19890\n",
      "Completed  2624/19890\n",
      "Completed  2688/19890\n",
      "Completed  2752/19890\n",
      "Completed  2816/19890\n",
      "Completed  2880/19890\n",
      "Completed  2944/19890\n",
      "Completed  3008/19890\n",
      "Completed  3072/19890\n",
      "Completed  3136/19890\n",
      "Completed  3200/19890\n",
      "Completed  3264/19890\n",
      "Completed  3328/19890\n",
      "Completed  3392/19890\n",
      "Completed  3456/19890\n",
      "Completed  3520/19890\n",
      "Completed  3584/19890\n",
      "Completed  3648/19890\n",
      "Completed  3712/19890\n",
      "Completed  3776/19890\n",
      "Completed  3840/19890\n",
      "Completed  3904/19890\n",
      "Completed  3968/19890\n",
      "Completed  4032/19890\n",
      "Completed  4096/19890\n",
      "Completed  4160/19890\n",
      "Completed  4224/19890\n",
      "Completed  4288/19890\n",
      "Completed  4352/19890\n",
      "Completed  4416/19890\n",
      "Completed  4480/19890\n",
      "Completed  4544/19890\n",
      "Completed  4608/19890\n",
      "Completed  4672/19890\n",
      "Completed  4736/19890\n",
      "Completed  4800/19890\n",
      "Completed  4864/19890\n",
      "Completed  4928/19890\n",
      "Completed  4992/19890\n",
      "Completed  5056/19890\n",
      "Completed  5120/19890\n",
      "Completed  5184/19890\n",
      "Completed  5248/19890\n",
      "Completed  5312/19890\n",
      "Completed  5376/19890\n",
      "Completed  5440/19890\n",
      "Completed  5504/19890\n",
      "Completed  5568/19890\n",
      "Completed  5632/19890\n",
      "Completed  5696/19890\n",
      "Completed  5760/19890\n",
      "Completed  5824/19890\n",
      "Completed  5888/19890\n",
      "Completed  5952/19890\n",
      "Completed  6016/19890\n",
      "Completed  6080/19890\n",
      "Completed  6144/19890\n",
      "Completed  6208/19890\n",
      "Completed  6272/19890\n",
      "Completed  6336/19890\n",
      "Completed  6400/19890\n",
      "Completed  6464/19890\n",
      "Completed  6528/19890\n",
      "Completed  6592/19890\n",
      "Completed  6656/19890\n",
      "Completed  6720/19890\n",
      "Completed  6784/19890\n",
      "Completed  6848/19890\n",
      "Completed  6912/19890\n",
      "Completed  6976/19890\n",
      "Completed  7040/19890\n",
      "Completed  7104/19890\n",
      "Completed  7168/19890\n",
      "Completed  7232/19890\n",
      "Completed  7296/19890\n",
      "Completed  7360/19890\n",
      "Completed  7424/19890\n",
      "Completed  7488/19890\n",
      "Completed  7552/19890\n",
      "Completed  7616/19890\n",
      "Completed  7680/19890\n",
      "Completed  7744/19890\n",
      "Completed  7808/19890\n",
      "Completed  7872/19890\n",
      "Completed  7936/19890\n",
      "Completed  8000/19890\n",
      "Completed  8064/19890\n",
      "Completed  8128/19890\n",
      "Completed  8192/19890\n",
      "Completed  8256/19890\n",
      "Completed  8320/19890\n",
      "Completed  8384/19890\n",
      "Completed  8448/19890\n",
      "Completed  8512/19890\n",
      "Completed  8576/19890\n",
      "Completed  8640/19890\n",
      "Completed  8704/19890\n",
      "Completed  8768/19890\n",
      "Completed  8832/19890\n",
      "Completed  8896/19890\n",
      "Completed  8960/19890\n",
      "Completed  9024/19890\n",
      "Completed  9088/19890\n",
      "Completed  9152/19890\n",
      "Completed  9216/19890\n",
      "Completed  9280/19890\n",
      "Completed  9344/19890\n",
      "Completed  9408/19890\n",
      "Completed  9472/19890\n",
      "Completed  9536/19890\n",
      "Completed  9600/19890\n",
      "Completed  9664/19890\n",
      "Completed  9728/19890\n",
      "Completed  9792/19890\n",
      "Completed  9856/19890\n",
      "Completed  9920/19890\n",
      "Completed  9984/19890\n",
      "Completed 10048/19890\n",
      "Completed 10112/19890\n",
      "Completed 10176/19890\n",
      "Completed 10240/19890\n",
      "Completed 10304/19890\n",
      "Completed 10368/19890\n",
      "Completed 10432/19890\n",
      "Completed 10496/19890\n",
      "Completed 10560/19890\n",
      "Completed 10624/19890\n",
      "Completed 10688/19890\n",
      "Completed 10752/19890\n",
      "Completed 10816/19890\n",
      "Completed 10880/19890\n",
      "Completed 10944/19890\n",
      "Completed 11008/19890\n",
      "Completed 11072/19890\n",
      "Completed 11136/19890\n",
      "Completed 11200/19890\n",
      "Completed 11264/19890\n",
      "Completed 11328/19890\n",
      "Completed 11392/19890\n",
      "Completed 11456/19890\n",
      "Completed 11520/19890\n",
      "Completed 11584/19890\n",
      "Completed 11648/19890\n",
      "Completed 11712/19890\n",
      "Completed 11776/19890\n",
      "Completed 11840/19890\n",
      "Completed 11904/19890\n",
      "Completed 11968/19890\n",
      "Completed 12032/19890\n",
      "Completed 12096/19890\n",
      "Completed 12160/19890\n",
      "Completed 12224/19890\n",
      "Completed 12288/19890\n",
      "Completed 12352/19890\n",
      "Completed 12416/19890\n",
      "Completed 12480/19890\n",
      "Completed 12544/19890\n",
      "Completed 12608/19890\n",
      "Completed 12672/19890\n",
      "Completed 12736/19890\n",
      "Completed 12800/19890\n",
      "Completed 12864/19890\n",
      "Completed 12928/19890\n",
      "Completed 12992/19890\n",
      "Completed 13056/19890\n",
      "Completed 13120/19890\n",
      "Completed 13184/19890\n",
      "Completed 13248/19890\n",
      "Completed 13312/19890\n",
      "Completed 13376/19890\n",
      "Completed 13440/19890\n",
      "Completed 13504/19890\n",
      "Completed 13568/19890\n",
      "Completed 13632/19890\n",
      "Completed 13696/19890\n",
      "Completed 13760/19890\n",
      "Completed 13824/19890\n",
      "Completed 13888/19890\n",
      "Completed 13952/19890\n",
      "Completed 14016/19890\n",
      "Completed 14080/19890\n",
      "Completed 14144/19890\n",
      "Completed 14208/19890\n",
      "Completed 14272/19890\n",
      "Completed 14336/19890\n",
      "Completed 14400/19890\n",
      "Completed 14464/19890\n",
      "Completed 14528/19890\n",
      "Completed 14592/19890\n",
      "Completed 14656/19890\n",
      "Completed 14720/19890\n",
      "Completed 14784/19890\n",
      "Completed 14848/19890\n",
      "Completed 14912/19890\n",
      "Completed 14976/19890\n",
      "Completed 15040/19890\n",
      "Completed 15104/19890\n",
      "Completed 15168/19890\n",
      "Completed 15232/19890\n",
      "Completed 15296/19890\n",
      "Completed 15360/19890\n",
      "Completed 15424/19890\n",
      "Completed 15488/19890\n",
      "Completed 15552/19890\n",
      "Completed 15616/19890\n",
      "Completed 15680/19890\n",
      "Completed 15744/19890\n",
      "Completed 15808/19890\n",
      "Completed 15872/19890\n",
      "Completed 15936/19890\n",
      "Completed 16000/19890\n",
      "Completed 16064/19890\n",
      "Completed 16128/19890\n",
      "Completed 16192/19890\n",
      "Completed 16256/19890\n",
      "Completed 16320/19890\n",
      "Completed 16384/19890\n",
      "Completed 16448/19890\n",
      "Completed 16512/19890\n",
      "Completed 16576/19890\n",
      "Completed 16640/19890\n",
      "Completed 16704/19890\n",
      "Completed 16768/19890\n",
      "Completed 16832/19890\n",
      "Completed 16896/19890\n",
      "Completed 16960/19890\n",
      "Completed 17024/19890\n",
      "Completed 17088/19890\n",
      "Completed 17152/19890\n",
      "Completed 17216/19890\n",
      "Completed 17280/19890\n",
      "Completed 17344/19890\n",
      "Completed 17408/19890\n",
      "Completed 17472/19890\n",
      "Completed 17536/19890\n",
      "Completed 17600/19890\n",
      "Completed 17664/19890\n",
      "Completed 17728/19890\n",
      "Completed 17792/19890\n",
      "Completed 17856/19890\n",
      "Completed 17920/19890\n",
      "Completed 17984/19890\n",
      "Completed 18048/19890\n",
      "Completed 18112/19890\n",
      "Completed 18176/19890\n",
      "Completed 18240/19890\n",
      "Completed 18304/19890\n",
      "Completed 18368/19890\n",
      "Completed 18432/19890\n",
      "Completed 18496/19890\n",
      "Completed 18560/19890\n",
      "Completed 18624/19890\n",
      "Completed 18688/19890\n",
      "Completed 18752/19890\n",
      "Completed 18816/19890\n",
      "Completed 18880/19890\n",
      "Completed 18944/19890\n",
      "Completed 19008/19890\n",
      "Completed 19072/19890\n",
      "Completed 19136/19890\n",
      "Completed 19200/19890\n",
      "Completed 19264/19890\n",
      "Completed 19328/19890\n",
      "Completed 19392/19890\n",
      "Completed 19456/19890\n",
      "Completed 19520/19890\n",
      "Completed 19584/19890\n",
      "Completed 19648/19890\n",
      "Completed 19712/19890\n",
      "Completed 19776/19890\n",
      "Completed 19840/19890\n",
      "Completed 19890/19890\n",
      "PROGRESS: Creating a validation set from 5 percent of training data. This may take a while.\n",
      "          You can set ``validation_set=None`` to disable validation tracking.\n",
      "\n"
     ]
    },
    {
     "data": {
      "text/html": [
       "<pre>Logistic regression:</pre>"
      ],
      "text/plain": [
       "Logistic regression:"
      ]
     },
     "metadata": {},
     "output_type": "display_data"
    },
    {
     "data": {
      "text/html": [
       "<pre>--------------------------------------------------------</pre>"
      ],
      "text/plain": [
       "--------------------------------------------------------"
      ]
     },
     "metadata": {},
     "output_type": "display_data"
    },
    {
     "data": {
      "text/html": [
       "<pre>Number of examples          : 18943</pre>"
      ],
      "text/plain": [
       "Number of examples          : 18943"
      ]
     },
     "metadata": {},
     "output_type": "display_data"
    },
    {
     "data": {
      "text/html": [
       "<pre>Number of classes           : 2</pre>"
      ],
      "text/plain": [
       "Number of classes           : 2"
      ]
     },
     "metadata": {},
     "output_type": "display_data"
    },
    {
     "data": {
      "text/html": [
       "<pre>Number of feature columns   : 1</pre>"
      ],
      "text/plain": [
       "Number of feature columns   : 1"
      ]
     },
     "metadata": {},
     "output_type": "display_data"
    },
    {
     "data": {
      "text/html": [
       "<pre>Number of unpacked features : 2048</pre>"
      ],
      "text/plain": [
       "Number of unpacked features : 2048"
      ]
     },
     "metadata": {},
     "output_type": "display_data"
    },
    {
     "data": {
      "text/html": [
       "<pre>Number of coefficients      : 2049</pre>"
      ],
      "text/plain": [
       "Number of coefficients      : 2049"
      ]
     },
     "metadata": {},
     "output_type": "display_data"
    },
    {
     "data": {
      "text/html": [
       "<pre>Starting L-BFGS</pre>"
      ],
      "text/plain": [
       "Starting L-BFGS"
      ]
     },
     "metadata": {},
     "output_type": "display_data"
    },
    {
     "data": {
      "text/html": [
       "<pre>--------------------------------------------------------</pre>"
      ],
      "text/plain": [
       "--------------------------------------------------------"
      ]
     },
     "metadata": {},
     "output_type": "display_data"
    },
    {
     "data": {
      "text/html": [
       "<pre>+-----------+----------+-----------+--------------+-------------------+---------------------+</pre>"
      ],
      "text/plain": [
       "+-----------+----------+-----------+--------------+-------------------+---------------------+"
      ]
     },
     "metadata": {},
     "output_type": "display_data"
    },
    {
     "data": {
      "text/html": [
       "<pre>| Iteration | Passes   | Step size | Elapsed Time | Training Accuracy | Validation Accuracy |</pre>"
      ],
      "text/plain": [
       "| Iteration | Passes   | Step size | Elapsed Time | Training Accuracy | Validation Accuracy |"
      ]
     },
     "metadata": {},
     "output_type": "display_data"
    },
    {
     "data": {
      "text/html": [
       "<pre>+-----------+----------+-----------+--------------+-------------------+---------------------+</pre>"
      ],
      "text/plain": [
       "+-----------+----------+-----------+--------------+-------------------+---------------------+"
      ]
     },
     "metadata": {},
     "output_type": "display_data"
    },
    {
     "data": {
      "text/html": [
       "<pre>| 0         | 1        | NaN       | 1.241506     | 0.497704          | 0.494192            |</pre>"
      ],
      "text/plain": [
       "| 0         | 1        | NaN       | 1.241506     | 0.497704          | 0.494192            |"
      ]
     },
     "metadata": {},
     "output_type": "display_data"
    },
    {
     "data": {
      "text/html": [
       "<pre>| 1         | 3        | 0.000053  | 1.990935     | 0.981312          | 0.983105            |</pre>"
      ],
      "text/plain": [
       "| 1         | 3        | 0.000053  | 1.990935     | 0.981312          | 0.983105            |"
      ]
     },
     "metadata": {},
     "output_type": "display_data"
    },
    {
     "data": {
      "text/html": [
       "<pre>| 2         | 6        | 0.500000  | 2.986000     | 0.981735          | 0.987328            |</pre>"
      ],
      "text/plain": [
       "| 2         | 6        | 0.500000  | 2.986000     | 0.981735          | 0.987328            |"
      ]
     },
     "metadata": {},
     "output_type": "display_data"
    },
    {
     "data": {
      "text/html": [
       "<pre>| 3         | 7        | 0.500000  | 3.464430     | 0.982579          | 0.988384            |</pre>"
      ],
      "text/plain": [
       "| 3         | 7        | 0.500000  | 3.464430     | 0.982579          | 0.988384            |"
      ]
     },
     "metadata": {},
     "output_type": "display_data"
    },
    {
     "data": {
      "text/html": [
       "<pre>| 4         | 8        | 0.500000  | 3.954063     | 0.983371          | 0.988384            |</pre>"
      ],
      "text/plain": [
       "| 4         | 8        | 0.500000  | 3.954063     | 0.983371          | 0.988384            |"
      ]
     },
     "metadata": {},
     "output_type": "display_data"
    },
    {
     "data": {
      "text/html": [
       "<pre>| 5         | 9        | 0.500000  | 4.442414     | 0.984955          | 0.990496            |</pre>"
      ],
      "text/plain": [
       "| 5         | 9        | 0.500000  | 4.442414     | 0.984955          | 0.990496            |"
      ]
     },
     "metadata": {},
     "output_type": "display_data"
    },
    {
     "data": {
      "text/html": [
       "<pre>| 10        | 15       | 1.000000  | 7.213405     | 0.990867          | 0.994720            |</pre>"
      ],
      "text/plain": [
       "| 10        | 15       | 1.000000  | 7.213405     | 0.990867          | 0.994720            |"
      ]
     },
     "metadata": {},
     "output_type": "display_data"
    },
    {
     "data": {
      "text/html": [
       "<pre>+-----------+----------+-----------+--------------+-------------------+---------------------+</pre>"
      ],
      "text/plain": [
       "+-----------+----------+-----------+--------------+-------------------+---------------------+"
      ]
     },
     "metadata": {},
     "output_type": "display_data"
    },
    {
     "data": {
      "text/html": [
       "<pre>Completed (Iteration limit reached).</pre>"
      ],
      "text/plain": [
       "Completed (Iteration limit reached)."
      ]
     },
     "metadata": {},
     "output_type": "display_data"
    },
    {
     "data": {
      "text/html": [
       "<pre>This model may not be optimal. To improve it, consider increasing `max_iterations`.</pre>"
      ],
      "text/plain": [
       "This model may not be optimal. To improve it, consider increasing `max_iterations`."
      ]
     },
     "metadata": {},
     "output_type": "display_data"
    }
   ],
   "source": [
    "data =  tc.SFrame('cats-dogs.sframe')\n",
    "\n",
    "# Make a train-test split\n",
    "train_data, test_data = data.random_split(0.8)\n",
    "\n",
    "# Create the model\n",
    "model = tc.image_classifier.create(train_data, target='label')\n",
    "\n",
    "\n",
    "# Save the model for later use in Turi Create\n",
    "model.save('mymodel.model')\n",
    "\n",
    "# Export for use in Core ML\n",
    "model.export_coreml('MyCustomImageClassifier.mlmodel')"
   ]
  },
  {
   "cell_type": "code",
   "execution_count": null,
   "metadata": {},
   "outputs": [],
   "source": []
  },
  {
   "cell_type": "code",
   "execution_count": null,
   "metadata": {},
   "outputs": [],
   "source": []
  }
 ],
 "metadata": {
  "kernelspec": {
   "display_name": "Python 3",
   "language": "python",
   "name": "python3"
  },
  "language_info": {
   "codemirror_mode": {
    "name": "ipython",
    "version": 3
   },
   "file_extension": ".py",
   "mimetype": "text/x-python",
   "name": "python",
   "nbconvert_exporter": "python",
   "pygments_lexer": "ipython3",
   "version": "3.6.6"
  }
 },
 "nbformat": 4,
 "nbformat_minor": 2
}
