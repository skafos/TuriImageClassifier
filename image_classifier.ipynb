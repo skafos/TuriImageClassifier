{
 "cells": [
  {
   "cell_type": "markdown",
   "metadata": {},
   "source": [
    "# **TuriCreate Image Classifier**\n",
    "The following notebook includes an example of data import, model training and model saving for an image classifier."
   ]
  },
  {
   "cell_type": "code",
   "execution_count": null,
   "metadata": {},
   "outputs": [],
   "source": [
    "import turicreate as tc\n",
    "import urllib\n",
    "import tarfile\n",
    "import coremltools\n",
    "import save_models as sm\n",
    "from skafossdk import *"
   ]
  },
  {
   "cell_type": "code",
   "execution_count": null,
   "metadata": {},
   "outputs": [],
   "source": [
    "ska  = Skafos()"
   ]
  },
  {
   "cell_type": "markdown",
   "metadata": {},
   "source": [
    "## **The Data**\n",
    "The data for this example are 25,000 images, half cats and half dogs. We have loaded the images into an S3 bucket for ease. T"
   ]
  },
  {
   "cell_type": "code",
   "execution_count": null,
   "metadata": {},
   "outputs": [],
   "source": [
    "# The code below specifies the S3 bucket to pull from\n",
    "# downloads the compressed directory and then extracts the images\n",
    "data_url = \"https://s3.amazonaws.com/skafos.example.data/PetImages.tar.gz\"\n",
    "data_path = \"PetImages.tar.gz\"\n",
    "\n",
    "# pull the tar\n",
    "ska.log(\"Retrieving the images from online\", labels = ['image_classifier'])\n",
    "retrieve = urllib.request.urlretrieve(data_url, data_path)\n",
    "\n",
    "# extract the file\n",
    "ska.log(\"Images downloaded, extracting the images\", labels = ['image_classifier'])\n",
    "tar = tarfile.open(data_path)\n",
    "tar.extractall()\n",
    "tar.close()"
   ]
  },
  {
   "cell_type": "markdown",
   "metadata": {},
   "source": [
    "## **Data Load**\n",
    "We use Turi Create's ```load_images``` function to recursively load all the images in the Dog and Cat sub-directories.\n",
    "We then create the label column based on the directory it was.\n",
    "Finally, we create a training data set to train on and a test data set to confirm model accuracy.\n",
    "\n"
   ]
  },
  {
   "cell_type": "code",
   "execution_count": null,
   "metadata": {},
   "outputs": [],
   "source": [
    "# Load images (Note: you can ignore 'Not a JPEG file' errors)\n",
    "ska.log(\"Loading the images locally\", labels = ['image_classifier'])\n",
    "data = tc.image_analysis.load_images('PetImages', with_path=True, ignore_failure = True)\n",
    "\n",
    "# From the path-name, create a label column\n",
    "data['label'] = data['path'].apply(lambda path: 'dog' if '/Dog' in path else 'cat')\n",
    "\n",
    "# Make a train-test split\n",
    "train_data, test_data = data.random_split(0.8)"
   ]
  },
  {
   "cell_type": "markdown",
   "metadata": {},
   "source": [
    "## **Model Build and Save**\n",
    "- Build the model by passing the training data, specifying the `target` column.\n",
    "- Save the model by:\n",
    "    - exporting to coreml\n",
    "    - converting the weights to half-precision to decrease model size\n",
    "    - compress the model\n",
    "    - save the model to *Skafos*\n",
    "\n",
    "Note: to see how we are saving these models, check out the `save_models.py` module. To read more about converting model weights to half-precision, click [here](https://developer.apple.com/documentation/coreml/reducing_the_size_of_your_core_ml_app).\n"
   ]
  },
  {
   "cell_type": "code",
   "execution_count": null,
   "metadata": {},
   "outputs": [],
   "source": [
    "# Create the model\n",
    "ska.log(\"Building the model\", labels = ['image_classifier'])\n",
    "model = tc.image_classifier.create(train_data, target='label')"
   ]
  },
  {
   "cell_type": "code",
   "execution_count": null,
   "metadata": {},
   "outputs": [],
   "source": [
    "# Save the model for later use in Turi Create\n",
    "coreml_model_name = 'image_classification.mlmodel'\n",
    "res = model.export_coreml(coreml_model_name)"
   ]
  },
  {
   "cell_type": "code",
   "execution_count": null,
   "metadata": {},
   "outputs": [],
   "source": [
    "# use coremltools utility function to convert model weights to half-precision\n",
    "model_spec = coremltools.utils.load_spec(coreml_model_name)\n",
    "model_fp16_spec = coremltools.utils.convert_neural_network_spec_weights_to_fp16(model_spec)\n",
    "coremltools.utils.save_spec(model_fp16_spec, coreml_model_name)\n",
    "\n",
    "# compress the model\n",
    "compressed_model_name, compressed_model = sm.compress_model(coreml_model_name)\n",
    "\n",
    "# save to Skafos\n",
    "sm.skafos_save_model(skafos = ska, model_name = compressed_model_name,\n",
    "\t\t\t\t\t\t\t\tcompressed_model = compressed_model,\n",
    "\t\t\t\t\t\t\t\tpermissions = 'public')"
   ]
  }
 ],
 "metadata": {
  "kernelspec": {
   "display_name": "Python 3",
   "language": "python",
   "name": "python3"
  },
  "language_info": {
   "codemirror_mode": {
    "name": "ipython",
    "version": 3
   },
   "file_extension": ".py",
   "mimetype": "text/x-python",
   "name": "python",
   "nbconvert_exporter": "python",
   "pygments_lexer": "ipython3",
   "version": "3.6.6"
  }
 },
 "nbformat": 4,
 "nbformat_minor": 2
}
