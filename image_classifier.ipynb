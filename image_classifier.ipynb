{
 "cells": [
  {
   "cell_type": "markdown",
   "metadata": {},
   "source": [
    "## **Turi Image Classifier**\n",
    "\n",
    "Welcome to the image classification model quickstart on Skafos! The purpose of this notebook is to get you going end-to-end. Below we will do the following:\n",
    "\n",
    "1. Load 25,000 cat and dog images.\n",
    "2. Build a classification model to predict whether an image is a cat or a dog.\n",
    "3. Convert the model to CoreML and save it to the Skafos framework.\n",
    "\n",
    "The example below is based on [Turi Create's Image Classifier](https://apple.github.io/turicreate/docs/userguide/image_classifier/).\n",
    "\n",
    "---\n",
    "\n",
    "Execute each cell one-by-one by selecting the cell and doing one of the following:\n",
    "- Clicking the play button at the top of this frame \n",
    "- Typing 'Control + Enter' or 'Shift + Enter'"
   ]
  },
  {
   "cell_type": "code",
   "execution_count": null,
   "metadata": {},
   "outputs": [],
   "source": [
    "# Import necessary libraries\n",
    "import urllib\n",
    "import tarfile\n",
    "\n",
    "import coremltools\n",
    "from skafossdk import *\n",
    "\n",
    "from utilities.load_turicreate import *\n",
    "import utilities.save_models as sm"
   ]
  },
  {
   "cell_type": "code",
   "execution_count": null,
   "metadata": {},
   "outputs": [],
   "source": [
    "tc = install_turicreate(timeout=500, retries=2) #check to make sure turicreate is installed\n",
    "ska  = Skafos() # initialize Skafos"
   ]
  },
  {
   "cell_type": "markdown",
   "metadata": {},
   "source": [
    "### 1. **Load the data**\n",
    "The training data for this example are 25,000 images, 12,500 cats and 12,500 dogs. The original data set is [here](https://www.microsoft.com/en-us/download/details.aspx?id=54765) and we have also included it in the public bucket listed below. First, we need to unzip and extract the images. "
   ]
  },
  {
   "cell_type": "code",
   "execution_count": null,
   "metadata": {},
   "outputs": [],
   "source": [
    "# Fetch training data from an AWS bucket publicly hosted by Metis Machine\n",
    "data_url = \"https://s3.amazonaws.com/skafos.example.data/ImageClassifier/PetImages.tar.gz\"\n",
    "data_path = \"PetImages.tar.gz\"\n",
    "\n",
    "# Extract images from the zipped tar file \n",
    "retrieve = urllib.request.urlretrieve(data_url, data_path)\n",
    "tar = tarfile.open(data_path)\n",
    "tar.extractall()\n",
    "tar.close()"
   ]
  },
  {
   "cell_type": "markdown",
   "metadata": {},
   "source": [
    "After extracting the images, they need to be loaded into Turi Create SFrame. Labels are then applied to each image (e.g. dog or cat) and the data is randomly split into train and test sets, where 80% of the data is used for training and 20% is used for model evaluation (if you desire). "
   ]
  },
  {
   "cell_type": "code",
   "execution_count": null,
   "metadata": {},
   "outputs": [],
   "source": [
    "# Load images (Note: you can ignore 'Unexpected JPEG decode failure' errors)\n",
    "data = tc.image_analysis.load_images('PetImages', with_path=True, ignore_failure=True)\n",
    "\n",
    "# From the path-name, create a label column. This labels each image as either a dog or a cat \n",
    "data['label'] = data['path'].apply(lambda path: 'dog' if '/Dog' in path else 'cat')\n",
    "\n",
    "# Make a train-set split\n",
    "train_data, test_data = data.random_split(0.8)"
   ]
  },
  {
   "cell_type": "markdown",
   "metadata": {},
   "source": [
    "### 2. **Build the model**\n",
    "We use the `tc.image_classifer.create` function and specify the data, target variable, and a few other arguments needed to properly train the model. To understand more about this specific function, check out the [Ture Create Documentation](https://apple.github.io/turicreate/docs/api/generated/turicreate.image_classifier.create.html#turicreate.image_classifier.create).\n",
    "\n",
    "**Note: The code below has been commented because we highly recommend running this model using a GPU.  If you uncomment the second line and run this cell as written, it will use a CPU, take approximately 90 minutes, and will re-create the cat/dog predictor model. Once you have loaded your own data, uncomment these lines to train your image classification model. It will currently use a CPU, but GPU support is coming soon.**"
   ]
  },
  {
   "cell_type": "code",
   "execution_count": null,
   "metadata": {},
   "outputs": [],
   "source": [
    "# Train an image classification model, specifying the name of the 'target'/'label' column\n",
    "#model = tc.image_classifier.create(train_data, target='label')"
   ]
  },
  {
   "cell_type": "markdown",
   "metadata": {},
   "source": [
    "### 3. **Save the model**\n",
    "Once your model has been created, it must be saved to the Skafos framework via the code below. This will trigger a push to your mobile app. Note that you will need to uncomment the lines below to do this. "
   ]
  },
  {
   "cell_type": "code",
   "execution_count": null,
   "metadata": {},
   "outputs": [],
   "source": [
    "## Export the model to CoreML\n",
    "#coreml_model_name = 'ImageClassifier.mlmodel'\n",
    "#res = model.export_coreml(coreml_model_name)\n",
    "\n",
    "## Use coremltools to convert model weights to half-precision.\n",
    "## This may be necessary if you have memory concerns within your app\n",
    "#model_spec = coremltools.utils.load_spec(coreml_model_name)\n",
    "#model_fp16_spec = coremltools.utils.convert_neural_network_spec_weights_to_fp16(model_spec)\n",
    "#coremltools.utils.save_spec(model_fp16_spec, coreml_model_name)\n",
    "\n",
    "# Compress the model\n",
    "#compressed_model = sm.compress_model(coreml_model_name)\n",
    "\n",
    "# Save to Skafos\n",
    "#sm.skafos_save_model(\n",
    "#    skafos=ska, \n",
    "#    model_name=coreml_model_name,\n",
    "#    compressed_model=compressed_model,\n",
    "#    permissions='public'\n",
    "# )"
   ]
  }
 ],
 "metadata": {
  "kernelspec": {
   "display_name": "Python 3",
   "language": "python",
   "name": "python3"
  },
  "language_info": {
   "codemirror_mode": {
    "name": "ipython",
    "version": 3
   },
   "file_extension": ".py",
   "mimetype": "text/x-python",
   "name": "python",
   "nbconvert_exporter": "python",
   "pygments_lexer": "ipython3",
   "version": "3.6.5"
  }
 },
 "nbformat": 4,
 "nbformat_minor": 2
}
