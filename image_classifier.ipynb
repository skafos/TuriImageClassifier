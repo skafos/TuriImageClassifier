{
 "cells": [
  {
   "cell_type": "markdown",
   "metadata": {},
   "source": [
    "## **Turi Create Image Classifier on Skafos**\n",
    "\n",
    "This notebook does the following:\n",
    "\n",
    "1. Loads 25,000 cat and dog images.\n",
    "2. Builds a classification model to predict whether an image is a cat or a dog.\n",
    "3. Converts the model to CoreML and saves it to the Skafos framework.\n",
    "\n",
    "The example below is based on [Turi Create's Image Classifier](https://apple.github.io/turicreate/docs/userguide/image_classifier/)."
   ]
  },
  {
   "cell_type": "code",
   "execution_count": null,
   "metadata": {},
   "outputs": [],
   "source": [
    "from utilities.load_turicreate import *\n",
    "tc = install_turicreate(timeout = 500, retries = 2)\n",
    "import urllib\n",
    "import tarfile\n",
    "import coremltools\n",
    "import utilities.save_models as sm\n",
    "from skafossdk import *"
   ]
  },
  {
   "cell_type": "code",
   "execution_count": null,
   "metadata": {},
   "outputs": [],
   "source": [
    "ska  = Skafos() # initialize Skafos"
   ]
  },
  {
   "cell_type": "markdown",
   "metadata": {},
   "source": [
    "### 1. **Load the data**\n",
    "The data for this example are 25000 images, 12500 Cats and 12500 Dogs. The original data set is [here](https://www.microsoft.com/en-us/download/details.aspx?id=54765) and we have also included included it in the public bucket listed below. To retrain this model using your own data, you will want to replace the `data_url` and `data_path` below with the appropriate code to source your own data. An example of how to do this can be found in `userguide/images_in_turicreate.ipynb`"
   ]
  },
  {
   "cell_type": "code",
   "execution_count": null,
   "metadata": {},
   "outputs": [],
   "source": [
    "# Fetch training data from an AWS bucket publicly hosted by Metis Machine.\n",
    "\n",
    "data_url = \"https://s3.amazonaws.com/skafos.example.data/ImageClassifier/PetImages.tar.gz\"\n",
    "data_path = \"PetImages.tar.gz\"\n",
    "\n",
    "retrieve = urllib.request.urlretrieve(data_url, data_path)\n",
    "tar = tarfile.open(data_path)\n",
    "tar.extractall()\n",
    "tar.close()"
   ]
  },
  {
   "cell_type": "code",
   "execution_count": null,
   "metadata": {},
   "outputs": [],
   "source": [
    "# Load images (Note: you can ignore 'Not a JPEG file' errors)\n",
    "data = tc.image_analysis.load_images('PetImages', with_path=True, ignore_failure = True)\n",
    "\n",
    "# From the path-name, create a label column. This labels each image as either a dog or a cat. \n",
    "data['label'] = data['path'].apply(lambda path: 'dog' if '/Dog' in path else 'cat')\n",
    "\n",
    "# test train split\n",
    "train_data, test_data = data.random_split(0.8)"
   ]
  },
  {
   "cell_type": "markdown",
   "metadata": {},
   "source": [
    "### 2. **Build the model**\n",
    "We pass the data to the `tc.image_classifer.create` function and specify the labels needed to properly run the model. More about this function and the parameters it takes can be found [here](https://apple.github.io/turicreate/docs/userguide/image_classifier/).\n",
    "\n",
    "\n",
    "_Note: The code below has been commented because we highly recommend running this model using a GPU.  If you uncomment this line and run this notebook as written, it will take approximately 90 minutes, and will re-create the cat/dog predictor model. Once you have We encourage you to do this once you've changed the data to reflect your use case._"
   ]
  },
  {
   "cell_type": "code",
   "execution_count": null,
   "metadata": {},
   "outputs": [],
   "source": [
    "# Train an image classification model, specifying the name of the 'target'/'label' column\n",
    "#model = tc.image_classifier.create(train_data, target='label')"
   ]
  },
  {
   "cell_type": "markdown",
   "metadata": {},
   "source": [
    "### 3. **Save the model**\n",
    "Once your model has been created, it must be saved to the Skafos framework via the code below. "
   ]
  },
  {
   "cell_type": "code",
   "execution_count": null,
   "metadata": {},
   "outputs": [],
   "source": [
    "## Save the model for later use in Skafos\n",
    "#coreml_model_name = 'image_classifier.mlmodel'\n",
    "#res = model.export_coreml(coreml_model_name)\n",
    "\n",
    "## use coremltools utility function to convert model weights to half-precision\n",
    "#model_spec = coremltools.utils.load_spec(coreml_model_name)\n",
    "#model_fp16_spec = coremltools.utils.convert_neural_network_spec_weights_to_fp16(model_spec)\n",
    "#coremltools.utils.save_spec(model_fp16_spec, coreml_model_name)\n",
    "\n",
    "# compress the model\n",
    "#compressed_model_name, compressed_model = sm.compress_model(coreml_model_name)\n",
    "\n",
    "# save to Skafos\n",
    "#sm.skafos_save_model(skafos = ska, model_name = compressed_model_name,\n",
    "#                                compressed_model = compressed_model,\n",
    "#                                permissions = 'public')"
   ]
  }
 ],
 "metadata": {
  "kernelspec": {
   "display_name": "Python 3",
   "language": "python",
   "name": "python3"
  },
  "language_info": {
   "codemirror_mode": {
    "name": "ipython",
    "version": 3
   },
   "file_extension": ".py",
   "mimetype": "text/x-python",
   "name": "python",
   "nbconvert_exporter": "python",
   "pygments_lexer": "ipython3",
   "version": "3.6.5"
  }
 },
 "nbformat": 4,
 "nbformat_minor": 2
}
