{
 "cells": [
  {
   "cell_type": "markdown",
   "metadata": {},
   "source": [
    "## **Turi Image Classifier**\n",
    "\n",
    "Welcome to the image classification model quickstart on Skafos! The purpose of this notebook is to get you going end-to-end. Below we will do the following:\n",
    "\n",
    "1. Load 25,000 cat and dog images.\n",
    "2. Build a classification model to predict whether an image is a cat or a dog.\n",
    "3. Convert the model to CoreML and save it to the Skafos framework.\n",
    "\n",
    "The example below is based on [Turi Create's Image Classifier](https://apple.github.io/turicreate/docs/userguide/image_classifier/).\n",
    "\n",
    "---\n",
    "\n",
    "Execute each cell one-by-one by selecting the cell and doing one of the following:\n",
    "- Clicking the play button at the top of this frame \n",
    "- Typing 'Control + Enter' or 'Shift + Enter'"
   ]
  },
  {
   "cell_type": "code",
   "execution_count": null,
   "metadata": {},
   "outputs": [],
   "source": [
    "# If this is your first time in the JupyterLab workspace - install external dependencies\n",
    "from utilities.dependencies import install\n",
    "install(timeout=500)\n",
    "\n",
    "# No need to do this in the future for this notebook"
   ]
  },
  {
   "cell_type": "code",
   "execution_count": null,
   "metadata": {},
   "outputs": [],
   "source": [
    "# Import necessary libraries\n",
    "import urllib\n",
    "import tarfile\n",
    "\n",
    "import coremltools\n",
    "from skafossdk import *\n",
    "import turicreate as tc"
   ]
  },
  {
   "cell_type": "code",
   "execution_count": null,
   "metadata": {},
   "outputs": [],
   "source": [
    "# Initialize Skafos\n",
    "ska  = Skafos()"
   ]
  },
  {
   "cell_type": "markdown",
   "metadata": {},
   "source": [
    "### 1. **Load the data**\n",
    "The training data for this example are 25,000 images, 12,500 cats and 12,500 dogs. The original data set is [here](https://www.microsoft.com/en-us/download/details.aspx?id=54765) and we have also included it in the public bucket listed below. First, we need to unzip and extract the images. "
   ]
  },
  {
   "cell_type": "code",
   "execution_count": null,
   "metadata": {},
   "outputs": [],
   "source": [
    "# Fetch training data from an AWS bucket publicly hosted by Metis Machine\n",
    "data_url = \"https://s3.amazonaws.com/skafos.example.data/ImageClassifier/PetImages.tar.gz\"\n",
    "data_path = \"PetImages.tar.gz\"\n",
    "\n",
    "# Extract images from the zipped tar file \n",
    "retrieve = urllib.request.urlretrieve(data_url, data_path)\n",
    "tar = tarfile.open(data_path)\n",
    "tar.extractall()\n",
    "tar.close()"
   ]
  },
  {
   "cell_type": "markdown",
   "metadata": {},
   "source": [
    "After extracting the images, they need to be loaded into Turi Create SFrame. Labels are then applied to each image (e.g. dog or cat) and the data is randomly split into train and test sets, where 80% of the data is used for training and 20% is used for model evaluation (if you desire). "
   ]
  },
  {
   "cell_type": "code",
   "execution_count": null,
   "metadata": {},
   "outputs": [],
   "source": [
    "# Load images (Note: you can ignore 'Unexpected JPEG decode failure' errors)\n",
    "data = tc.image_analysis.load_images('PetImages', with_path=True, ignore_failure=True)\n",
    "\n",
    "# From the path-name, create a label column. This labels each image as either a dog or a cat \n",
    "data['label'] = data['path'].apply(lambda path: 'dog' if '/Dog' in path else 'cat')\n",
    "\n",
    "# Make a train-set split\n",
    "train_data, test_data = data.random_split(0.8)"
   ]
  },
  {
   "cell_type": "markdown",
   "metadata": {},
   "source": [
    "### 2. **Build the model**\n",
    "We use the `tc.image_classifer.create` function and specify the data, target variable, and a few other arguments needed to properly train the model. To understand more about this specific function, check out the [Ture Create Documentation](https://apple.github.io/turicreate/docs/api/generated/turicreate.image_classifier.create.html#turicreate.image_classifier.create).\n",
    "\n",
    "**We recommend training this model on a GPU instead of CPU.** [You can leverage a GPU by deploying this code as a job](https://dash.readme.io/project/metismachine/v1.3.1/docs/using-a-gpu)."
   ]
  },
  {
   "cell_type": "code",
   "execution_count": null,
   "metadata": {},
   "outputs": [],
   "source": [
    "# Train an image classification model, specifying the name of the 'target'/'label' column\n",
    "model = tc.image_classifier.create(train_data, target='label')"
   ]
  },
  {
   "cell_type": "markdown",
   "metadata": {},
   "source": [
    "### 3. **Save the model**\n",
    "Once your model has been created, it must be saved to the Skafos framework via the code below. This will trigger a push to your mobile app. Note that you will need to uncomment the lines below to do this. "
   ]
  },
  {
   "cell_type": "code",
   "execution_count": null,
   "metadata": {},
   "outputs": [],
   "source": [
    "# Specify the CoreML model name\n",
    "model_name = 'ImageClassifier'\n",
    "coreml_model_name = model_name + '.mlmodel'\n",
    "\n",
    "# Export the trained model to CoreML format\n",
    "res = model.export_coreml(coreml_model_name) \n",
    "\n",
    "# Use coremltools to convert model weights to half-precision.\n",
    "# This may be necessary if you have memory concerns within your app\n",
    "#model_spec = coremltools.utils.load_spec(coreml_model_name)\n",
    "#model_fp16_spec = coremltools.utils.convert_neural_network_spec_weights_to_fp16(model_spec)\n",
    "#coremltools.utils.save_spec(model_fp16_spec, coreml_model_name)\n",
    "\n",
    "# Save model asset to Skafos\n",
    "ska.asset_manager.save(\n",
    "    name=model_name,              # Name used to load or deliver asset, also used within the Swift SDK.\n",
    "    files=coreml_model_name,      # File or list of files to bundle together as a versioned asset.\n",
    "    tags=['latest'],              # User-defined tags to help distinguish your asset.\n",
    "    access='public'               # Asset access- public/private.\n",
    ")"
   ]
  },
  {
   "cell_type": "code",
   "execution_count": null,
   "metadata": {},
   "outputs": [],
   "source": [
    "# Deliver asset to devices (push)\n",
    "#ska.asset_manager.deliver(\n",
    "#  name=model_name,                # Name used to load or deliver asset, also used within the Swift SDK.\n",
    "#  tag='latest',                   # User-defined tags to help distinguish your asset.\n",
    "#  dev=True                        # Push asset through Apple's APNS dev or prod server\n",
    "#)"
   ]
  }
 ],
 "metadata": {
  "kernelspec": {
   "display_name": "Python 3",
   "language": "python",
   "name": "python3"
  },
  "language_info": {
   "codemirror_mode": {
    "name": "ipython",
    "version": 3
   },
   "file_extension": ".py",
   "mimetype": "text/x-python",
   "name": "python",
   "nbconvert_exporter": "python",
   "pygments_lexer": "ipython3",
   "version": "3.6.5"
  }
 },
 "nbformat": 4,
 "nbformat_minor": 2
}
